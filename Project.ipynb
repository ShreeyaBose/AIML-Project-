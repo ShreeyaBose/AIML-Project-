{
  "nbformat": 4,
  "nbformat_minor": 0,
  "metadata": {
    "colab": {
      "provenance": []
    },
    "kernelspec": {
      "name": "python3",
      "display_name": "Python 3"
    },
    "language_info": {
      "name": "python"
    }
  },
  "cells": [
    {
      "cell_type": "code",
      "execution_count": 1,
      "metadata": {
        "id": "cXh-1teWS-mB"
      },
      "outputs": [],
      "source": [
        "import pandas as pd"
      ]
    },
    {
      "cell_type": "code",
      "source": [
        "import pandas as pd\n",
        "import numpy as np\n",
        "from sklearn.model_selection import train_test_split\n",
        "from sklearn.linear_model import LogisticRegression\n",
        "from sklearn.neighbors import KNeighborsClassifier\n",
        "from sklearn.svm import SVC\n",
        "from sklearn.tree import DecisionTreeClassifier\n",
        "from sklearn.naive_bayes import GaussianNB\n",
        "from sklearn.metrics import accuracy_score, precision_score, recall_score, confusion_matrix\n",
        "import matplotlib.pyplot as plt\n"
      ],
      "metadata": {
        "id": "i1cXbOlKRksv"
      },
      "execution_count": 2,
      "outputs": []
    },
    {
      "cell_type": "code",
      "source": [
        "data = pd.read_csv('/content/dataset1.csv')\n",
        "print(data)"
      ],
      "metadata": {
        "colab": {
          "base_uri": "https://localhost:8080/"
        },
        "id": "qiZzt3q4TIPo",
        "outputId": "36b0d4cc-ad80-4b0f-9eb8-46053e5a8bf1"
      },
      "execution_count": 3,
      "outputs": [
        {
          "output_type": "stream",
          "name": "stdout",
          "text": [
            "       N     P    K    pH    EC    OC      S    Zn    Fe    Cu     Mn     B  \\\n",
            "0    138   8.6  560  7.46  0.62  0.70   5.90  0.24  0.31  0.77   8.71  0.11   \n",
            "1    213   7.5  338  7.62  0.75  1.06  25.40  0.30  0.86  1.54   2.89  2.29   \n",
            "2    163   9.6  718  7.59  0.51  1.11  14.30  0.30  0.86  1.57   2.70  2.03   \n",
            "3    157   6.8  475  7.64  0.58  0.94  26.00  0.34  0.54  1.53   2.65  1.82   \n",
            "4    270   9.9  444  7.63  0.40  0.86  11.80  0.25  0.76  1.69   2.43  2.26   \n",
            "..   ...   ...  ...   ...   ...   ...    ...   ...   ...   ...    ...   ...   \n",
            "875  351  10.7  623  7.96  0.51  0.29   7.24  0.36  4.69  0.69  11.03  0.69   \n",
            "876  264   9.0  486  7.24  0.47  0.10   3.92  0.35  8.26  0.45   7.98  0.40   \n",
            "877  276   9.2  370  7.62  0.62  0.49   6.64  0.42  3.57  0.63   6.48  0.32   \n",
            "878  320  13.8  391  7.38  0.65  1.07   5.43  0.58  4.58  1.02  13.25  0.53   \n",
            "879  264  10.3  475  7.49  0.74  0.88  10.56  0.45  7.36  1.87  10.63  0.63   \n",
            "\n",
            "     Output  \n",
            "0         0  \n",
            "1         0  \n",
            "2         0  \n",
            "3         0  \n",
            "4         1  \n",
            "..      ...  \n",
            "875       1  \n",
            "876       1  \n",
            "877       1  \n",
            "878       2  \n",
            "879       0  \n",
            "\n",
            "[880 rows x 13 columns]\n"
          ]
        }
      ]
    },
    {
      "cell_type": "code",
      "source": [
        "data.info()"
      ],
      "metadata": {
        "colab": {
          "base_uri": "https://localhost:8080/"
        },
        "id": "7CJEat4MgMjE",
        "outputId": "9e793edc-445c-4c5a-f206-ee548e5a3102"
      },
      "execution_count": 4,
      "outputs": [
        {
          "output_type": "stream",
          "name": "stdout",
          "text": [
            "<class 'pandas.core.frame.DataFrame'>\n",
            "RangeIndex: 880 entries, 0 to 879\n",
            "Data columns (total 13 columns):\n",
            " #   Column  Non-Null Count  Dtype  \n",
            "---  ------  --------------  -----  \n",
            " 0   N       880 non-null    int64  \n",
            " 1   P       880 non-null    float64\n",
            " 2   K       880 non-null    int64  \n",
            " 3   pH      880 non-null    float64\n",
            " 4   EC      880 non-null    float64\n",
            " 5   OC      880 non-null    float64\n",
            " 6   S       880 non-null    float64\n",
            " 7   Zn      880 non-null    float64\n",
            " 8   Fe      880 non-null    float64\n",
            " 9   Cu      880 non-null    float64\n",
            " 10  Mn      880 non-null    float64\n",
            " 11  B       880 non-null    float64\n",
            " 12  Output  880 non-null    int64  \n",
            "dtypes: float64(10), int64(3)\n",
            "memory usage: 89.5 KB\n"
          ]
        }
      ]
    },
    {
      "cell_type": "code",
      "source": [
        "data.describe()"
      ],
      "metadata": {
        "colab": {
          "base_uri": "https://localhost:8080/",
          "height": 300
        },
        "id": "bayHx9_sgIeH",
        "outputId": "7becab6b-6f8c-4549-813c-9c94273a04b8"
      },
      "execution_count": 5,
      "outputs": [
        {
          "output_type": "execute_result",
          "data": {
            "text/plain": [
              "               N           P           K          pH          EC          OC  \\\n",
              "count  880.00000  880.000000  880.000000  880.000000  880.000000  880.000000   \n",
              "mean   246.73750   14.562159  499.978409    7.510500    0.543659    0.617989   \n",
              "std     77.38886   21.967755  124.222838    0.464912    0.141597    0.842986   \n",
              "min      6.00000    2.900000   11.000000    0.900000    0.100000    0.100000   \n",
              "25%    201.00000    6.800000  412.000000    7.350000    0.430000    0.380000   \n",
              "50%    257.00000    8.100000  475.000000    7.500000    0.545000    0.590000   \n",
              "75%    307.00000   10.550000  581.000000    7.630000    0.640000    0.780000   \n",
              "max    383.00000  125.000000  887.000000   11.150000    0.950000   24.000000   \n",
              "\n",
              "                S          Zn          Fe          Cu          Mn           B  \\\n",
              "count  880.000000  880.000000  880.000000  880.000000  880.000000  880.000000   \n",
              "mean     7.545080    0.469273    4.140523    0.952443    8.666500    0.590159   \n",
              "std      4.424184    1.894234    3.110011    0.465900    4.298828    0.570800   \n",
              "min      0.640000    0.070000    0.210000    0.090000    0.110000    0.060000   \n",
              "25%      4.700000    0.280000    2.050000    0.630000    6.225000    0.270000   \n",
              "50%      6.640000    0.360000    3.565000    0.930000    8.345000    0.405000   \n",
              "75%      8.750000    0.470000    6.320000    1.250000   11.472500    0.610000   \n",
              "max     31.000000   42.000000   44.000000    3.020000   31.000000    2.820000   \n",
              "\n",
              "           Output  \n",
              "count  880.000000  \n",
              "mean     0.588636  \n",
              "std      0.575462  \n",
              "min      0.000000  \n",
              "25%      0.000000  \n",
              "50%      1.000000  \n",
              "75%      1.000000  \n",
              "max      2.000000  "
            ],
            "text/html": [
              "\n",
              "  <div id=\"df-113cb5f1-fba8-4cf6-998f-4e8b1c166ede\" class=\"colab-df-container\">\n",
              "    <div>\n",
              "<style scoped>\n",
              "    .dataframe tbody tr th:only-of-type {\n",
              "        vertical-align: middle;\n",
              "    }\n",
              "\n",
              "    .dataframe tbody tr th {\n",
              "        vertical-align: top;\n",
              "    }\n",
              "\n",
              "    .dataframe thead th {\n",
              "        text-align: right;\n",
              "    }\n",
              "</style>\n",
              "<table border=\"1\" class=\"dataframe\">\n",
              "  <thead>\n",
              "    <tr style=\"text-align: right;\">\n",
              "      <th></th>\n",
              "      <th>N</th>\n",
              "      <th>P</th>\n",
              "      <th>K</th>\n",
              "      <th>pH</th>\n",
              "      <th>EC</th>\n",
              "      <th>OC</th>\n",
              "      <th>S</th>\n",
              "      <th>Zn</th>\n",
              "      <th>Fe</th>\n",
              "      <th>Cu</th>\n",
              "      <th>Mn</th>\n",
              "      <th>B</th>\n",
              "      <th>Output</th>\n",
              "    </tr>\n",
              "  </thead>\n",
              "  <tbody>\n",
              "    <tr>\n",
              "      <th>count</th>\n",
              "      <td>880.00000</td>\n",
              "      <td>880.000000</td>\n",
              "      <td>880.000000</td>\n",
              "      <td>880.000000</td>\n",
              "      <td>880.000000</td>\n",
              "      <td>880.000000</td>\n",
              "      <td>880.000000</td>\n",
              "      <td>880.000000</td>\n",
              "      <td>880.000000</td>\n",
              "      <td>880.000000</td>\n",
              "      <td>880.000000</td>\n",
              "      <td>880.000000</td>\n",
              "      <td>880.000000</td>\n",
              "    </tr>\n",
              "    <tr>\n",
              "      <th>mean</th>\n",
              "      <td>246.73750</td>\n",
              "      <td>14.562159</td>\n",
              "      <td>499.978409</td>\n",
              "      <td>7.510500</td>\n",
              "      <td>0.543659</td>\n",
              "      <td>0.617989</td>\n",
              "      <td>7.545080</td>\n",
              "      <td>0.469273</td>\n",
              "      <td>4.140523</td>\n",
              "      <td>0.952443</td>\n",
              "      <td>8.666500</td>\n",
              "      <td>0.590159</td>\n",
              "      <td>0.588636</td>\n",
              "    </tr>\n",
              "    <tr>\n",
              "      <th>std</th>\n",
              "      <td>77.38886</td>\n",
              "      <td>21.967755</td>\n",
              "      <td>124.222838</td>\n",
              "      <td>0.464912</td>\n",
              "      <td>0.141597</td>\n",
              "      <td>0.842986</td>\n",
              "      <td>4.424184</td>\n",
              "      <td>1.894234</td>\n",
              "      <td>3.110011</td>\n",
              "      <td>0.465900</td>\n",
              "      <td>4.298828</td>\n",
              "      <td>0.570800</td>\n",
              "      <td>0.575462</td>\n",
              "    </tr>\n",
              "    <tr>\n",
              "      <th>min</th>\n",
              "      <td>6.00000</td>\n",
              "      <td>2.900000</td>\n",
              "      <td>11.000000</td>\n",
              "      <td>0.900000</td>\n",
              "      <td>0.100000</td>\n",
              "      <td>0.100000</td>\n",
              "      <td>0.640000</td>\n",
              "      <td>0.070000</td>\n",
              "      <td>0.210000</td>\n",
              "      <td>0.090000</td>\n",
              "      <td>0.110000</td>\n",
              "      <td>0.060000</td>\n",
              "      <td>0.000000</td>\n",
              "    </tr>\n",
              "    <tr>\n",
              "      <th>25%</th>\n",
              "      <td>201.00000</td>\n",
              "      <td>6.800000</td>\n",
              "      <td>412.000000</td>\n",
              "      <td>7.350000</td>\n",
              "      <td>0.430000</td>\n",
              "      <td>0.380000</td>\n",
              "      <td>4.700000</td>\n",
              "      <td>0.280000</td>\n",
              "      <td>2.050000</td>\n",
              "      <td>0.630000</td>\n",
              "      <td>6.225000</td>\n",
              "      <td>0.270000</td>\n",
              "      <td>0.000000</td>\n",
              "    </tr>\n",
              "    <tr>\n",
              "      <th>50%</th>\n",
              "      <td>257.00000</td>\n",
              "      <td>8.100000</td>\n",
              "      <td>475.000000</td>\n",
              "      <td>7.500000</td>\n",
              "      <td>0.545000</td>\n",
              "      <td>0.590000</td>\n",
              "      <td>6.640000</td>\n",
              "      <td>0.360000</td>\n",
              "      <td>3.565000</td>\n",
              "      <td>0.930000</td>\n",
              "      <td>8.345000</td>\n",
              "      <td>0.405000</td>\n",
              "      <td>1.000000</td>\n",
              "    </tr>\n",
              "    <tr>\n",
              "      <th>75%</th>\n",
              "      <td>307.00000</td>\n",
              "      <td>10.550000</td>\n",
              "      <td>581.000000</td>\n",
              "      <td>7.630000</td>\n",
              "      <td>0.640000</td>\n",
              "      <td>0.780000</td>\n",
              "      <td>8.750000</td>\n",
              "      <td>0.470000</td>\n",
              "      <td>6.320000</td>\n",
              "      <td>1.250000</td>\n",
              "      <td>11.472500</td>\n",
              "      <td>0.610000</td>\n",
              "      <td>1.000000</td>\n",
              "    </tr>\n",
              "    <tr>\n",
              "      <th>max</th>\n",
              "      <td>383.00000</td>\n",
              "      <td>125.000000</td>\n",
              "      <td>887.000000</td>\n",
              "      <td>11.150000</td>\n",
              "      <td>0.950000</td>\n",
              "      <td>24.000000</td>\n",
              "      <td>31.000000</td>\n",
              "      <td>42.000000</td>\n",
              "      <td>44.000000</td>\n",
              "      <td>3.020000</td>\n",
              "      <td>31.000000</td>\n",
              "      <td>2.820000</td>\n",
              "      <td>2.000000</td>\n",
              "    </tr>\n",
              "  </tbody>\n",
              "</table>\n",
              "</div>\n",
              "    <div class=\"colab-df-buttons\">\n",
              "\n",
              "  <div class=\"colab-df-container\">\n",
              "    <button class=\"colab-df-convert\" onclick=\"convertToInteractive('df-113cb5f1-fba8-4cf6-998f-4e8b1c166ede')\"\n",
              "            title=\"Convert this dataframe to an interactive table.\"\n",
              "            style=\"display:none;\">\n",
              "\n",
              "  <svg xmlns=\"http://www.w3.org/2000/svg\" height=\"24px\" viewBox=\"0 -960 960 960\">\n",
              "    <path d=\"M120-120v-720h720v720H120Zm60-500h600v-160H180v160Zm220 220h160v-160H400v160Zm0 220h160v-160H400v160ZM180-400h160v-160H180v160Zm440 0h160v-160H620v160ZM180-180h160v-160H180v160Zm440 0h160v-160H620v160Z\"/>\n",
              "  </svg>\n",
              "    </button>\n",
              "\n",
              "  <style>\n",
              "    .colab-df-container {\n",
              "      display:flex;\n",
              "      gap: 12px;\n",
              "    }\n",
              "\n",
              "    .colab-df-convert {\n",
              "      background-color: #E8F0FE;\n",
              "      border: none;\n",
              "      border-radius: 50%;\n",
              "      cursor: pointer;\n",
              "      display: none;\n",
              "      fill: #1967D2;\n",
              "      height: 32px;\n",
              "      padding: 0 0 0 0;\n",
              "      width: 32px;\n",
              "    }\n",
              "\n",
              "    .colab-df-convert:hover {\n",
              "      background-color: #E2EBFA;\n",
              "      box-shadow: 0px 1px 2px rgba(60, 64, 67, 0.3), 0px 1px 3px 1px rgba(60, 64, 67, 0.15);\n",
              "      fill: #174EA6;\n",
              "    }\n",
              "\n",
              "    .colab-df-buttons div {\n",
              "      margin-bottom: 4px;\n",
              "    }\n",
              "\n",
              "    [theme=dark] .colab-df-convert {\n",
              "      background-color: #3B4455;\n",
              "      fill: #D2E3FC;\n",
              "    }\n",
              "\n",
              "    [theme=dark] .colab-df-convert:hover {\n",
              "      background-color: #434B5C;\n",
              "      box-shadow: 0px 1px 3px 1px rgba(0, 0, 0, 0.15);\n",
              "      filter: drop-shadow(0px 1px 2px rgba(0, 0, 0, 0.3));\n",
              "      fill: #FFFFFF;\n",
              "    }\n",
              "  </style>\n",
              "\n",
              "    <script>\n",
              "      const buttonEl =\n",
              "        document.querySelector('#df-113cb5f1-fba8-4cf6-998f-4e8b1c166ede button.colab-df-convert');\n",
              "      buttonEl.style.display =\n",
              "        google.colab.kernel.accessAllowed ? 'block' : 'none';\n",
              "\n",
              "      async function convertToInteractive(key) {\n",
              "        const element = document.querySelector('#df-113cb5f1-fba8-4cf6-998f-4e8b1c166ede');\n",
              "        const dataTable =\n",
              "          await google.colab.kernel.invokeFunction('convertToInteractive',\n",
              "                                                    [key], {});\n",
              "        if (!dataTable) return;\n",
              "\n",
              "        const docLinkHtml = 'Like what you see? Visit the ' +\n",
              "          '<a target=\"_blank\" href=https://colab.research.google.com/notebooks/data_table.ipynb>data table notebook</a>'\n",
              "          + ' to learn more about interactive tables.';\n",
              "        element.innerHTML = '';\n",
              "        dataTable['output_type'] = 'display_data';\n",
              "        await google.colab.output.renderOutput(dataTable, element);\n",
              "        const docLink = document.createElement('div');\n",
              "        docLink.innerHTML = docLinkHtml;\n",
              "        element.appendChild(docLink);\n",
              "      }\n",
              "    </script>\n",
              "  </div>\n",
              "\n",
              "\n",
              "<div id=\"df-76cf9894-6061-45b2-abaf-eb0ff0d9b9df\">\n",
              "  <button class=\"colab-df-quickchart\" onclick=\"quickchart('df-76cf9894-6061-45b2-abaf-eb0ff0d9b9df')\"\n",
              "            title=\"Suggest charts\"\n",
              "            style=\"display:none;\">\n",
              "\n",
              "<svg xmlns=\"http://www.w3.org/2000/svg\" height=\"24px\"viewBox=\"0 0 24 24\"\n",
              "     width=\"24px\">\n",
              "    <g>\n",
              "        <path d=\"M19 3H5c-1.1 0-2 .9-2 2v14c0 1.1.9 2 2 2h14c1.1 0 2-.9 2-2V5c0-1.1-.9-2-2-2zM9 17H7v-7h2v7zm4 0h-2V7h2v10zm4 0h-2v-4h2v4z\"/>\n",
              "    </g>\n",
              "</svg>\n",
              "  </button>\n",
              "\n",
              "<style>\n",
              "  .colab-df-quickchart {\n",
              "      --bg-color: #E8F0FE;\n",
              "      --fill-color: #1967D2;\n",
              "      --hover-bg-color: #E2EBFA;\n",
              "      --hover-fill-color: #174EA6;\n",
              "      --disabled-fill-color: #AAA;\n",
              "      --disabled-bg-color: #DDD;\n",
              "  }\n",
              "\n",
              "  [theme=dark] .colab-df-quickchart {\n",
              "      --bg-color: #3B4455;\n",
              "      --fill-color: #D2E3FC;\n",
              "      --hover-bg-color: #434B5C;\n",
              "      --hover-fill-color: #FFFFFF;\n",
              "      --disabled-bg-color: #3B4455;\n",
              "      --disabled-fill-color: #666;\n",
              "  }\n",
              "\n",
              "  .colab-df-quickchart {\n",
              "    background-color: var(--bg-color);\n",
              "    border: none;\n",
              "    border-radius: 50%;\n",
              "    cursor: pointer;\n",
              "    display: none;\n",
              "    fill: var(--fill-color);\n",
              "    height: 32px;\n",
              "    padding: 0;\n",
              "    width: 32px;\n",
              "  }\n",
              "\n",
              "  .colab-df-quickchart:hover {\n",
              "    background-color: var(--hover-bg-color);\n",
              "    box-shadow: 0 1px 2px rgba(60, 64, 67, 0.3), 0 1px 3px 1px rgba(60, 64, 67, 0.15);\n",
              "    fill: var(--button-hover-fill-color);\n",
              "  }\n",
              "\n",
              "  .colab-df-quickchart-complete:disabled,\n",
              "  .colab-df-quickchart-complete:disabled:hover {\n",
              "    background-color: var(--disabled-bg-color);\n",
              "    fill: var(--disabled-fill-color);\n",
              "    box-shadow: none;\n",
              "  }\n",
              "\n",
              "  .colab-df-spinner {\n",
              "    border: 2px solid var(--fill-color);\n",
              "    border-color: transparent;\n",
              "    border-bottom-color: var(--fill-color);\n",
              "    animation:\n",
              "      spin 1s steps(1) infinite;\n",
              "  }\n",
              "\n",
              "  @keyframes spin {\n",
              "    0% {\n",
              "      border-color: transparent;\n",
              "      border-bottom-color: var(--fill-color);\n",
              "      border-left-color: var(--fill-color);\n",
              "    }\n",
              "    20% {\n",
              "      border-color: transparent;\n",
              "      border-left-color: var(--fill-color);\n",
              "      border-top-color: var(--fill-color);\n",
              "    }\n",
              "    30% {\n",
              "      border-color: transparent;\n",
              "      border-left-color: var(--fill-color);\n",
              "      border-top-color: var(--fill-color);\n",
              "      border-right-color: var(--fill-color);\n",
              "    }\n",
              "    40% {\n",
              "      border-color: transparent;\n",
              "      border-right-color: var(--fill-color);\n",
              "      border-top-color: var(--fill-color);\n",
              "    }\n",
              "    60% {\n",
              "      border-color: transparent;\n",
              "      border-right-color: var(--fill-color);\n",
              "    }\n",
              "    80% {\n",
              "      border-color: transparent;\n",
              "      border-right-color: var(--fill-color);\n",
              "      border-bottom-color: var(--fill-color);\n",
              "    }\n",
              "    90% {\n",
              "      border-color: transparent;\n",
              "      border-bottom-color: var(--fill-color);\n",
              "    }\n",
              "  }\n",
              "</style>\n",
              "\n",
              "  <script>\n",
              "    async function quickchart(key) {\n",
              "      const quickchartButtonEl =\n",
              "        document.querySelector('#' + key + ' button');\n",
              "      quickchartButtonEl.disabled = true;  // To prevent multiple clicks.\n",
              "      quickchartButtonEl.classList.add('colab-df-spinner');\n",
              "      try {\n",
              "        const charts = await google.colab.kernel.invokeFunction(\n",
              "            'suggestCharts', [key], {});\n",
              "      } catch (error) {\n",
              "        console.error('Error during call to suggestCharts:', error);\n",
              "      }\n",
              "      quickchartButtonEl.classList.remove('colab-df-spinner');\n",
              "      quickchartButtonEl.classList.add('colab-df-quickchart-complete');\n",
              "    }\n",
              "    (() => {\n",
              "      let quickchartButtonEl =\n",
              "        document.querySelector('#df-76cf9894-6061-45b2-abaf-eb0ff0d9b9df button');\n",
              "      quickchartButtonEl.style.display =\n",
              "        google.colab.kernel.accessAllowed ? 'block' : 'none';\n",
              "    })();\n",
              "  </script>\n",
              "</div>\n",
              "\n",
              "    </div>\n",
              "  </div>\n"
            ],
            "application/vnd.google.colaboratory.intrinsic+json": {
              "type": "dataframe",
              "summary": "{\n  \"name\": \"data\",\n  \"rows\": 8,\n  \"fields\": [\n    {\n      \"column\": \"N\",\n      \"properties\": {\n        \"dtype\": \"number\",\n        \"std\": 265.54457206299315,\n        \"min\": 6.0,\n        \"max\": 880.0,\n        \"num_unique_values\": 8,\n        \"samples\": [\n          246.7375,\n          257.0,\n          880.0\n        ],\n        \"semantic_type\": \"\",\n        \"description\": \"\"\n      }\n    },\n    {\n      \"column\": \"P\",\n      \"properties\": {\n        \"dtype\": \"number\",\n        \"std\": 304.2252038010364,\n        \"min\": 2.9,\n        \"max\": 880.0,\n        \"num_unique_values\": 8,\n        \"samples\": [\n          14.56215909090909,\n          8.1,\n          880.0\n        ],\n        \"semantic_type\": \"\",\n        \"description\": \"\"\n      }\n    },\n    {\n      \"column\": \"K\",\n      \"properties\": {\n        \"dtype\": \"number\",\n        \"std\": 313.35112921964037,\n        \"min\": 11.0,\n        \"max\": 887.0,\n        \"num_unique_values\": 8,\n        \"samples\": [\n          499.9784090909091,\n          475.0,\n          880.0\n        ],\n        \"semantic_type\": \"\",\n        \"description\": \"\"\n      }\n    },\n    {\n      \"column\": \"pH\",\n      \"properties\": {\n        \"dtype\": \"number\",\n        \"std\": 309.0014369405242,\n        \"min\": 0.4649121658515391,\n        \"max\": 880.0,\n        \"num_unique_values\": 8,\n        \"samples\": [\n          7.5104999999999995,\n          7.5,\n          880.0\n        ],\n        \"semantic_type\": \"\",\n        \"description\": \"\"\n      }\n    },\n    {\n      \"column\": \"EC\",\n      \"properties\": {\n        \"dtype\": \"number\",\n        \"std\": 310.9578888213911,\n        \"min\": 0.1,\n        \"max\": 880.0,\n        \"num_unique_values\": 8,\n        \"samples\": [\n          0.5436590909090908,\n          0.545,\n          880.0\n        ],\n        \"semantic_type\": \"\",\n        \"description\": \"\"\n      }\n    },\n    {\n      \"column\": \"OC\",\n      \"properties\": {\n        \"dtype\": \"number\",\n        \"std\": 309.8563152761273,\n        \"min\": 0.1,\n        \"max\": 880.0,\n        \"num_unique_values\": 8,\n        \"samples\": [\n          0.6179886363636365,\n          0.59,\n          880.0\n        ],\n        \"semantic_type\": \"\",\n        \"description\": \"\"\n      }\n    },\n    {\n      \"column\": \"S\",\n      \"properties\": {\n        \"dtype\": \"number\",\n        \"std\": 308.049072136366,\n        \"min\": 0.64,\n        \"max\": 880.0,\n        \"num_unique_values\": 8,\n        \"samples\": [\n          7.545079545454546,\n          6.64,\n          880.0\n        ],\n        \"semantic_type\": \"\",\n        \"description\": \"\"\n      }\n    },\n    {\n      \"column\": \"Zn\",\n      \"properties\": {\n        \"dtype\": \"number\",\n        \"std\": 309.1669438675823,\n        \"min\": 0.07,\n        \"max\": 880.0,\n        \"num_unique_values\": 8,\n        \"samples\": [\n          0.46927272727272723,\n          0.36,\n          880.0\n        ],\n        \"semantic_type\": \"\",\n        \"description\": \"\"\n      }\n    },\n    {\n      \"column\": \"Fe\",\n      \"properties\": {\n        \"dtype\": \"number\",\n        \"std\": 308.2601690405681,\n        \"min\": 0.21,\n        \"max\": 880.0,\n        \"num_unique_values\": 8,\n        \"samples\": [\n          4.140522727272727,\n          3.565,\n          880.0\n        ],\n        \"semantic_type\": \"\",\n        \"description\": \"\"\n      }\n    },\n    {\n      \"column\": \"Cu\",\n      \"properties\": {\n        \"dtype\": \"number\",\n        \"std\": 310.7575789547352,\n        \"min\": 0.09,\n        \"max\": 880.0,\n        \"num_unique_values\": 8,\n        \"samples\": [\n          0.9524431818181819,\n          0.93,\n          880.0\n        ],\n        \"semantic_type\": \"\",\n        \"description\": \"\"\n      }\n    },\n    {\n      \"column\": \"Mn\",\n      \"properties\": {\n        \"dtype\": \"number\",\n        \"std\": 307.72300213074936,\n        \"min\": 0.11,\n        \"max\": 880.0,\n        \"num_unique_values\": 8,\n        \"samples\": [\n          8.666500000000001,\n          8.344999999999999,\n          880.0\n        ],\n        \"semantic_type\": \"\",\n        \"description\": \"\"\n      }\n    },\n    {\n      \"column\": \"B\",\n      \"properties\": {\n        \"dtype\": \"number\",\n        \"std\": 310.85917397084506,\n        \"min\": 0.06,\n        \"max\": 880.0,\n        \"num_unique_values\": 8,\n        \"samples\": [\n          0.5901590909090909,\n          0.405,\n          880.0\n        ],\n        \"semantic_type\": \"\",\n        \"description\": \"\"\n      }\n    },\n    {\n      \"column\": \"Output\",\n      \"properties\": {\n        \"dtype\": \"number\",\n        \"std\": 310.8668163530475,\n        \"min\": 0.0,\n        \"max\": 880.0,\n        \"num_unique_values\": 6,\n        \"samples\": [\n          880.0,\n          0.5886363636363636,\n          2.0\n        ],\n        \"semantic_type\": \"\",\n        \"description\": \"\"\n      }\n    }\n  ]\n}"
            }
          },
          "metadata": {},
          "execution_count": 5
        }
      ]
    },
    {
      "cell_type": "code",
      "source": [
        "new_var = print(data.isnull().sum())"
      ],
      "metadata": {
        "colab": {
          "base_uri": "https://localhost:8080/"
        },
        "id": "SiObg4KNgPn0",
        "outputId": "a5256d81-1d3e-4936-902f-7d22ed0dffbf"
      },
      "execution_count": 6,
      "outputs": [
        {
          "output_type": "stream",
          "name": "stdout",
          "text": [
            "N         0\n",
            "P         0\n",
            "K         0\n",
            "pH        0\n",
            "EC        0\n",
            "OC        0\n",
            "S         0\n",
            "Zn        0\n",
            "Fe        0\n",
            "Cu        0\n",
            "Mn        0\n",
            "B         0\n",
            "Output    0\n",
            "dtype: int64\n"
          ]
        }
      ]
    },
    {
      "cell_type": "code",
      "source": [
        "X = data.drop(\"Output\", axis=1)\n",
        "y = data[\"Output\"]\n"
      ],
      "metadata": {
        "id": "u3A16_99TQJe"
      },
      "execution_count": 7,
      "outputs": []
    },
    {
      "cell_type": "code",
      "source": [
        "X_train, X_test, y_train, y_test = train_test_split(X, y, test_size=0.2, random_state=42)\n"
      ],
      "metadata": {
        "id": "Sc0fWU8HTTI2"
      },
      "execution_count": 8,
      "outputs": []
    },
    {
      "cell_type": "code",
      "source": [
        "log_reg = LogisticRegression()\n",
        "log_reg.fit(X_train, y_train)\n",
        "y_pred_log_reg = log_reg.predict(X_test)\n",
        "print('Logistic Regression Values:',y_pred_log_reg)\n",
        "accuracy = accuracy_score(y_test, y_pred_log_reg)\n",
        "print(\"Accuracy:\", accuracy)\n",
        "\n",
        "precision = precision_score(y_test, y_pred_log_reg, average='weighted')\n",
        "print(\"Precision:\", precision)\n",
        "\n",
        "recall = recall_score(y_test, y_pred_log_reg, average='weighted')\n",
        "print(\"Recall:\", recall)\n",
        "\n",
        "conf_matrix = confusion_matrix(y_test, y_pred_log_reg)\n",
        "print(\"Confusion Matrix:\")\n",
        "print(conf_matrix)\n"
      ],
      "metadata": {
        "colab": {
          "base_uri": "https://localhost:8080/"
        },
        "id": "ZqGd0sFMTWMi",
        "outputId": "68e90d1a-734f-462e-cf45-38cd9be57495"
      },
      "execution_count": 9,
      "outputs": [
        {
          "output_type": "stream",
          "name": "stdout",
          "text": [
            "Logistic Regression Values: [1 0 0 0 0 1 0 1 1 0 1 0 1 1 0 1 1 1 0 1 0 0 1 1 1 1 0 0 1 1 1 1 1 0 1 1 1\n",
            " 0 1 1 0 0 1 0 0 1 0 1 0 1 1 0 1 0 1 0 1 0 1 1 1 0 1 0 1 0 1 1 1 1 1 1 0 1\n",
            " 0 1 0 1 0 1 0 0 1 1 1 1 0 0 1 1 1 1 1 1 0 0 1 0 1 0 1 0 0 1 1 1 0 1 1 1 0\n",
            " 0 1 0 1 1 0 1 1 0 0 0 1 1 0 1 0 0 0 1 0 1 0 0 1 2 1 0 0 0 0 0 1 0 1 0 1 0\n",
            " 0 0 1 1 0 1 0 1 1 0 1 0 1 0 0 0 0 0 0 1 1 0 1 0 0 1 0 0]\n",
            "Accuracy: 0.8011363636363636\n",
            "Precision: 0.7599897479913215\n",
            "Recall: 0.8011363636363636\n",
            "Confusion Matrix:\n",
            "[[68 10  0]\n",
            " [14 73  1]\n",
            " [ 0 10  0]]\n"
          ]
        },
        {
          "output_type": "stream",
          "name": "stderr",
          "text": [
            "/usr/local/lib/python3.10/dist-packages/sklearn/linear_model/_logistic.py:458: ConvergenceWarning: lbfgs failed to converge (status=1):\n",
            "STOP: TOTAL NO. of ITERATIONS REACHED LIMIT.\n",
            "\n",
            "Increase the number of iterations (max_iter) or scale the data as shown in:\n",
            "    https://scikit-learn.org/stable/modules/preprocessing.html\n",
            "Please also refer to the documentation for alternative solver options:\n",
            "    https://scikit-learn.org/stable/modules/linear_model.html#logistic-regression\n",
            "  n_iter_i = _check_optimize_result(\n"
          ]
        }
      ]
    },
    {
      "cell_type": "code",
      "source": [
        "import matplotlib.pyplot as plt\n",
        "import seaborn as sns"
      ],
      "metadata": {
        "id": "94k-l4gsiRXd"
      },
      "execution_count": 10,
      "outputs": []
    },
    {
      "cell_type": "code",
      "source": [
        "conf_matrix = confusion_matrix(y_test, y_pred_log_reg)\n",
        "\n",
        "plt.figure(figsize=(8, 6))\n",
        "sns.heatmap(conf_matrix, annot=True, fmt=\"d\", cmap=\"Blues\", cbar=False)\n",
        "plt.title(\"Confusion Matrix\")\n",
        "plt.xlabel(\"Predicted\")\n",
        "plt.ylabel(\"Actual\")\n",
        "plt.show()\n"
      ],
      "metadata": {
        "colab": {
          "base_uri": "https://localhost:8080/",
          "height": 564
        },
        "id": "KVpiVo0JiTAW",
        "outputId": "8fb27c30-9980-4071-fa4d-97635ecb6af7"
      },
      "execution_count": 11,
      "outputs": [
        {
          "output_type": "display_data",
          "data": {
            "text/plain": [
              "<Figure size 800x600 with 1 Axes>"
            ],
            "image/png": "[encoded data removed]"
          },
          "metadata": {}
        }
      ]
    },
    {
      "cell_type": "code",
      "source": [
        "knn = KNeighborsClassifier(n_neighbors=3)\n",
        "knn.fit(X_train, y_train)\n",
        "y_pred_knn = knn.predict(X_test)\n",
        "print('KNN predicted values:',y_pred_knn)\n",
        "\n"
      ],
      "metadata": {
        "colab": {
          "base_uri": "https://localhost:8080/"
        },
        "id": "QxzBtqxmTZtn",
        "outputId": "fe40df74-2a78-4f0a-d0d7-ec2125ebd293"
      },
      "execution_count": 12,
      "outputs": [
        {
          "output_type": "stream",
          "name": "stdout",
          "text": [
            "KNN predicted values: [1 0 0 0 0 1 0 1 1 0 1 0 1 1 0 0 1 1 0 1 0 0 1 1 1 1 1 0 1 1 1 1 2 0 1 1 1\n",
            " 0 1 1 1 0 1 0 0 1 0 1 0 0 1 1 1 0 1 0 1 0 0 1 1 0 1 0 0 0 1 1 1 1 1 1 0 1\n",
            " 1 1 0 0 0 1 1 0 1 1 1 1 0 0 1 1 1 0 1 0 0 0 0 0 1 0 0 0 0 1 0 1 0 1 1 0 0\n",
            " 0 1 0 1 0 0 1 1 0 0 0 1 1 0 1 1 0 0 1 0 1 0 0 1 1 1 0 0 0 0 0 1 0 1 0 1 0\n",
            " 0 0 1 1 0 1 0 1 1 0 1 0 1 0 0 1 0 0 0 0 2 0 1 0 0 1 0 0]\n"
          ]
        }
      ]
    },
    {
      "cell_type": "code",
      "source": [
        "svm = SVC(kernel='linear', C=1)\n",
        "svm.fit(X_train, y_train)\n",
        "y_pred_svm = svm.predict(X_test)\n",
        "print('SVM predicted values:',y_pred_svm)\n",
        "\n"
      ],
      "metadata": {
        "colab": {
          "base_uri": "https://localhost:8080/"
        },
        "id": "6EVNjAvtTioc",
        "outputId": "032fbad0-8160-41c3-af2f-4f724f442c5a"
      },
      "execution_count": 13,
      "outputs": [
        {
          "output_type": "stream",
          "name": "stdout",
          "text": [
            "SVM predicted values: [1 0 0 0 0 1 0 1 1 0 1 0 1 1 0 1 1 1 0 1 0 0 1 1 1 1 1 0 1 1 1 1 1 0 1 1 1\n",
            " 0 1 1 1 0 1 0 0 0 0 1 0 1 1 0 1 0 1 0 1 0 0 0 1 0 1 0 0 0 1 1 1 1 1 1 0 1\n",
            " 1 1 0 0 0 1 1 0 1 1 1 1 0 0 1 1 1 1 1 1 0 0 0 0 1 0 1 1 0 1 0 1 0 1 1 1 0\n",
            " 0 1 0 1 1 0 1 1 0 0 0 1 1 0 1 1 0 0 1 0 1 0 0 1 1 1 0 0 0 0 0 1 0 1 0 1 0\n",
            " 0 0 1 1 0 1 0 1 1 0 1 0 1 0 0 1 0 0 0 0 1 0 1 0 0 1 0 0]\n"
          ]
        }
      ]
    },
    {
      "cell_type": "code",
      "source": [
        "dec_tree = DecisionTreeClassifier()\n",
        "dec_tree.fit(X_train, y_train)\n",
        "y_pred_dec_tree = dec_tree.predict(X_test)\n",
        "print('Decision Tree predicted values:',y_pred_dec_tree)\n"
      ],
      "metadata": {
        "colab": {
          "base_uri": "https://localhost:8080/"
        },
        "id": "I_KebX03TqHB",
        "outputId": "ddb34034-604f-405a-ab9f-1b0f2941b4e9"
      },
      "execution_count": 14,
      "outputs": [
        {
          "output_type": "stream",
          "name": "stdout",
          "text": [
            "Decision Tree predicted values: [1 0 0 0 0 1 0 1 2 0 1 0 1 1 0 1 1 1 0 1 0 0 1 0 1 2 0 0 2 1 1 1 1 0 1 1 1\n",
            " 0 1 1 1 0 1 0 0 1 0 1 0 1 1 0 1 0 1 0 1 0 0 0 0 0 1 0 0 0 1 1 1 1 1 1 0 1\n",
            " 2 1 0 0 0 1 1 0 1 1 1 1 0 0 1 1 1 1 2 1 0 0 0 0 1 0 1 0 0 1 0 1 0 1 1 0 0\n",
            " 0 1 0 1 0 0 0 1 0 0 0 1 0 0 1 1 1 0 1 0 1 0 0 1 1 1 0 0 0 0 2 1 0 1 0 1 0\n",
            " 0 0 1 1 0 1 0 1 1 0 1 0 1 0 0 0 0 0 0 0 1 0 1 1 0 1 0 0]\n"
          ]
        }
      ]
    },
    {
      "cell_type": "code",
      "source": [
        "knn_accuracy = accuracy_score(y_test, y_pred_knn)\n",
        "knn_precision = precision_score(y_test, y_pred_knn, average='weighted')\n",
        "knn_recall = recall_score(y_test, y_pred_knn, average='weighted')\n",
        "knn_confusion_matrix = confusion_matrix(y_test, y_pred_knn)\n",
        "print('KNN Accuracy:',knn_accuracy)\n",
        "print('KNN Precision:',knn_precision)\n",
        "print('KNN Recall:',knn_recall)\n",
        "print('KNN Confusion Matrix:',knn_confusion_matrix)"
      ],
      "metadata": {
        "colab": {
          "base_uri": "https://localhost:8080/"
        },
        "id": "Ydntt6NfTtaw",
        "outputId": "993a2c09-e1fe-462c-a8ec-730b39e4ac5f"
      },
      "execution_count": 15,
      "outputs": [
        {
          "output_type": "stream",
          "name": "stdout",
          "text": [
            "KNN Accuracy: 0.8409090909090909\n",
            "KNN Precision: 0.802130381510667\n",
            "KNN Recall: 0.8409090909090909\n",
            "KNN Confusion Matrix: [[75  3  0]\n",
            " [13 73  2]\n",
            " [ 0 10  0]]\n"
          ]
        }
      ]
    },
    {
      "cell_type": "code",
      "source": [
        "import matplotlib.pyplot as plt\n",
        "import seaborn as sns\n",
        "\n",
        "plt.figure(figsize=(8, 6))\n",
        "sns.heatmap(knn_confusion_matrix, annot=True, cmap='Blues', fmt='g', cbar=False)\n",
        "plt.title('Confusion Matrix - KNN')\n",
        "plt.xlabel('Predicted')\n",
        "plt.ylabel('True')\n",
        "plt.show()\n"
      ],
      "metadata": {
        "colab": {
          "base_uri": "https://localhost:8080/",
          "height": 564
        },
        "id": "2pRcnB-_iwcB",
        "outputId": "e1ac7ff2-2d1f-4ec8-a265-d2f6686648b7"
      },
      "execution_count": 16,
      "outputs": [
        {
          "output_type": "display_data",
          "data": {
            "text/plain": [
              "<Figure size 800x600 with 1 Axes>"
            ],
            "image/png": "[encoded data removed]"
          },
          "metadata": {}
        }
      ]
    },
    {
      "cell_type": "code",
      "source": [
        "svm_accuracy = accuracy_score(y_test, y_pred_svm)\n",
        "svm_precision = precision_score(y_test, y_pred_svm, average='weighted')\n",
        "svm_recall = recall_score(y_test, y_pred_svm, average='weighted')\n",
        "svm_confusion_matrix = confusion_matrix(y_test, y_pred_svm)\n",
        "print('SVM Accuracy:',svm_accuracy)\n",
        "print('SVM Precision:',svm_precision)\n",
        "print('SVM Recall:',svm_recall)\n",
        "print('SVM Confusion Matrix:',svm_confusion_matrix)\n"
      ],
      "metadata": {
        "colab": {
          "base_uri": "https://localhost:8080/"
        },
        "id": "0AnFOeoNUpB9",
        "outputId": "a88a174e-4834-4a35-f996-9c8804ecfc62"
      },
      "execution_count": 17,
      "outputs": [
        {
          "output_type": "stream",
          "name": "stdout",
          "text": [
            "SVM Accuracy: 0.8352272727272727\n",
            "SVM Precision: 0.7877094889823223\n",
            "SVM Recall: 0.8352272727272727\n",
            "SVM Confusion Matrix: [[71  7  0]\n",
            " [12 76  0]\n",
            " [ 0 10  0]]\n"
          ]
        },
        {
          "output_type": "stream",
          "name": "stderr",
          "text": [
            "/usr/local/lib/python3.10/dist-packages/sklearn/metrics/_classification.py:1344: UndefinedMetricWarning: Precision is ill-defined and being set to 0.0 in labels with no predicted samples. Use `zero_division` parameter to control this behavior.\n",
            "  _warn_prf(average, modifier, msg_start, len(result))\n"
          ]
        }
      ]
    },
    {
      "cell_type": "code",
      "source": [
        "import matplotlib.pyplot as plt\n",
        "import seaborn as sns"
      ],
      "metadata": {
        "id": "SEs-DZUMlE1Y"
      },
      "execution_count": 18,
      "outputs": []
    },
    {
      "cell_type": "code",
      "source": [
        "plt.figure(figsize=(8, 6))\n",
        "sns.set(font_scale=1.2)\n",
        "sns.heatmap(svm_confusion_matrix, annot=True, cmap='Blues', fmt='g',\n",
        "            xticklabels=np.unique(y_test), yticklabels=np.unique(y_test))\n",
        "plt.xlabel('Predicted')\n",
        "plt.ylabel('True')\n",
        "plt.title('Confusion Matrix for SVM')\n",
        "plt.show()"
      ],
      "metadata": {
        "colab": {
          "base_uri": "https://localhost:8080/",
          "height": 578
        },
        "id": "uq5wNC70lGMu",
        "outputId": "5c3b86d2-067c-4d64-cfce-9a1d9026bcd9"
      },
      "execution_count": 19,
      "outputs": [
        {
          "output_type": "display_data",
          "data": {
            "text/plain": [
              "<Figure size 800x600 with 2 Axes>"
            ],
            "image/png": "[encoded data removed]"
          },
          "metadata": {}
        }
      ]
    },
    {
      "cell_type": "code",
      "source": [
        "dec_tree_accuracy = accuracy_score(y_test, y_pred_dec_tree)\n",
        "dec_tree_precision = precision_score(y_test, y_pred_dec_tree, average='weighted')\n",
        "dec_tree_recall = recall_score(y_test, y_pred_dec_tree, average='weighted')\n",
        "dec_tree_confusion_matrix = confusion_matrix(y_test, y_pred_dec_tree)\n",
        "print('Decision Tree Accuracy:',dec_tree_accuracy)\n",
        "print('Decision Tree Precision:',dec_tree_precision)\n",
        "print('Decision Tree Recall:',dec_tree_recall)\n",
        "print('Decision Tree Confusion Matrix:',dec_tree_confusion_matrix)\n",
        "\n"
      ],
      "metadata": {
        "colab": {
          "base_uri": "https://localhost:8080/"
        },
        "id": "Qrcb0r1rWEGd",
        "outputId": "5448d801-af92-460f-fb05-2f0e9c374bab"
      },
      "execution_count": 20,
      "outputs": [
        {
          "output_type": "stream",
          "name": "stdout",
          "text": [
            "Decision Tree Accuracy: 0.8522727272727273\n",
            "Decision Tree Precision: 0.8462066619633138\n",
            "Decision Tree Recall: 0.8522727272727273\n",
            "Decision Tree Confusion Matrix: [[74  3  1]\n",
            " [13 73  2]\n",
            " [ 1  6  3]]\n"
          ]
        }
      ]
    },
    {
      "cell_type": "code",
      "source": [
        "plt.figure(figsize=(8, 6))\n",
        "sns.heatmap(dec_tree_confusion_matrix, annot=True, cmap='Blues', fmt='g')\n",
        "plt.xlabel('Predicted labels')\n",
        "plt.ylabel('True labels')\n",
        "plt.title('Confusion Matrix - Decision Tree Model')\n",
        "plt.show()"
      ],
      "metadata": {
        "colab": {
          "base_uri": "https://localhost:8080/",
          "height": 578
        },
        "id": "7b82cSgVlUnQ",
        "outputId": "bc868266-dad9-4cec-8aeb-9ee06039225f"
      },
      "execution_count": 21,
      "outputs": [
        {
          "output_type": "display_data",
          "data": {
            "text/plain": [
              "<Figure size 800x600 with 2 Axes>"
            ],
            "image/png": "[encoded data removed]"
          },
          "metadata": {}
        }
      ]
    },
    {
      "cell_type": "code",
      "source": [
        "from sklearn.ensemble import RandomForestClassifier, AdaBoostClassifier\n",
        "from sklearn.metrics import accuracy_score, precision_score, recall_score, f1_score"
      ],
      "metadata": {
        "id": "fr9Mf7vXlWVQ"
      },
      "execution_count": 22,
      "outputs": []
    },
    {
      "cell_type": "code",
      "source": [
        "random_forest = RandomForestClassifier(random_state=42)\n",
        "random_forest.fit(X_train, y_train)\n",
        "\n",
        "y_pred_rf = random_forest.predict(X_test)\n",
        "\n",
        "rf_accuracy = accuracy_score(y_test, y_pred_rf)\n",
        "rf_precision = precision_score(y_test, y_pred_rf, average='weighted')\n",
        "rf_recall = recall_score(y_test, y_pred_rf, average='weighted')\n",
        "rf_f1 = f1_score(y_test, y_pred_rf, average='weighted')\n",
        "\n",
        "print(\"Random Forest Metrics:\")\n",
        "print(\"Accuracy:\", rf_accuracy)\n",
        "print(\"Precision:\", rf_precision)\n",
        "print(\"Recall:\", rf_recall)\n",
        "print(\"F1-score:\", rf_f1)\n",
        "\n"
      ],
      "metadata": {
        "colab": {
          "base_uri": "https://localhost:8080/"
        },
        "id": "0nfuMHh-l0CP",
        "outputId": "8c67a9ad-131a-4d21-bf11-ce86643cdb34"
      },
      "execution_count": 23,
      "outputs": [
        {
          "output_type": "stream",
          "name": "stdout",
          "text": [
            "Random Forest Metrics:\n",
            "Accuracy: 0.8863636363636364\n",
            "Precision: 0.8357566346696782\n",
            "Recall: 0.8863636363636364\n",
            "F1-score: 0.8602693602693602\n"
          ]
        },
        {
          "output_type": "stream",
          "name": "stderr",
          "text": [
            "/usr/local/lib/python3.10/dist-packages/sklearn/metrics/_classification.py:1344: UndefinedMetricWarning: Precision is ill-defined and being set to 0.0 in labels with no predicted samples. Use `zero_division` parameter to control this behavior.\n",
            "  _warn_prf(average, modifier, msg_start, len(result))\n"
          ]
        }
      ]
    },
    {
      "cell_type": "code",
      "source": [
        "adaboost = AdaBoostClassifier(random_state=42)\n",
        "adaboost.fit(X_train, y_train)\n",
        "\n",
        "y_pred_ab = adaboost.predict(X_test)\n",
        "\n",
        "ab_accuracy = accuracy_score(y_test, y_pred_ab)\n",
        "ab_precision = precision_score(y_test, y_pred_ab, average='weighted')\n",
        "ab_recall = recall_score(y_test, y_pred_ab, average='weighted')\n",
        "ab_f1 = f1_score(y_test, y_pred_ab, average='weighted')\n",
        "\n",
        "print(\"\\nAdaBoost Metrics:\")\n",
        "print(\"Accuracy:\", ab_accuracy)\n",
        "print(\"Precision:\", ab_precision)\n",
        "print(\"Recall:\", ab_recall)\n",
        "print(\"F1-score:\", ab_f1)\n"
      ],
      "metadata": {
        "colab": {
          "base_uri": "https://localhost:8080/"
        },
        "id": "H7Jr2_8KmHmI",
        "outputId": "f49a5d5c-55ed-4886-b69c-2c3aed9023ed"
      },
      "execution_count": 24,
      "outputs": [
        {
          "output_type": "stream",
          "name": "stdout",
          "text": [
            "\n",
            "AdaBoost Metrics:\n",
            "Accuracy: 0.8068181818181818\n",
            "Precision: 0.7962791605292644\n",
            "Recall: 0.8068181818181818\n",
            "F1-score: 0.799118276062056\n"
          ]
        }
      ]
    },
    {
      "cell_type": "code",
      "source": [
        "from sklearn.metrics import accuracy_score, precision_score, recall_score, f1_score\n",
        "from sklearn.ensemble import GradientBoostingClassifier\n",
        "import xgboost as xgb"
      ],
      "metadata": {
        "id": "M9UVaYhGcEUH"
      },
      "execution_count": 25,
      "outputs": []
    },
    {
      "cell_type": "code",
      "source": [
        "gboost_model = GradientBoostingClassifier()\n",
        "gboost_model.fit(X_train, y_train)\n",
        "gboost_pred = gboost_model.predict(X_test)\n"
      ],
      "metadata": {
        "id": "FxuOMJLEcTlx"
      },
      "execution_count": 26,
      "outputs": []
    },
    {
      "cell_type": "code",
      "source": [
        "gboost_accuracy = accuracy_score(y_test, gboost_pred)\n",
        "gboost_precision = precision_score(y_test, gboost_pred, average='weighted')\n",
        "gboost_recall = recall_score(y_test, gboost_pred, average='weighted')\n",
        "gboost_f1 = f1_score(y_test, gboost_pred, average='weighted')\n",
        "\n",
        "print(\"Gradient Boosting Classifier:\")\n",
        "print(\"Accuracy:\", gboost_accuracy)\n",
        "print(\"Precision:\", gboost_precision)\n",
        "print(\"Recall:\", gboost_recall)\n",
        "print(\"F1-score:\", gboost_f1)\n"
      ],
      "metadata": {
        "colab": {
          "base_uri": "https://localhost:8080/"
        },
        "id": "IO4XNNEscYPL",
        "outputId": "1ba2b04d-b839-42a1-8975-d45025271bc8"
      },
      "execution_count": 27,
      "outputs": [
        {
          "output_type": "stream",
          "name": "stdout",
          "text": [
            "Gradient Boosting Classifier:\n",
            "Accuracy: 0.875\n",
            "Precision: 0.8820948513346633\n",
            "Recall: 0.875\n",
            "F1-score: 0.8561356168475556\n"
          ]
        }
      ]
    },
    {
      "cell_type": "code",
      "source": [
        "xgb_model = xgb.XGBClassifier()\n",
        "xgb_model.fit(X_train, y_train)\n",
        "xgb_pred = xgb_model.predict(X_test)\n"
      ],
      "metadata": {
        "id": "gQkE0km5cpiz"
      },
      "execution_count": 28,
      "outputs": []
    },
    {
      "cell_type": "code",
      "source": [
        "xgb_accuracy = accuracy_score(y_test, xgb_pred)\n",
        "xgb_precision = precision_score(y_test, xgb_pred, average='weighted')\n",
        "xgb_recall = recall_score(y_test, xgb_pred, average='weighted')\n",
        "xgb_f1 = f1_score(y_test, xgb_pred, average='weighted')\n",
        "\n",
        "print(\"\\nXGBoost Classifier:\")\n",
        "print(\"Accuracy:\", xgb_accuracy)\n",
        "print(\"Precision:\", xgb_precision)\n",
        "print(\"Recall:\", xgb_recall)\n",
        "print(\"F1-score:\", xgb_f1)"
      ],
      "metadata": {
        "colab": {
          "base_uri": "https://localhost:8080/"
        },
        "id": "UtS0-dg0csqW",
        "outputId": "93b7ab42-f92a-45cd-f187-13bc3c963909"
      },
      "execution_count": 29,
      "outputs": [
        {
          "output_type": "stream",
          "name": "stdout",
          "text": [
            "\n",
            "XGBoost Classifier:\n",
            "Accuracy: 0.8863636363636364\n",
            "Precision: 0.8922413793103449\n",
            "Recall: 0.8863636363636364\n",
            "F1-score: 0.8729181424635971\n"
          ]
        }
      ]
    },
    {
      "cell_type": "code",
      "source": [
        "classifiers = {\n",
        "    \"Logistic Regression\": LogisticRegression(),\n",
        "    \"KNN\": KNeighborsClassifier(),\n",
        "    \"SVM\": SVC(),\n",
        "    \"Decision Tree\": DecisionTreeClassifier(),\n",
        "    \"Random Forest\": RandomForestClassifier(random_state=42),\n",
        "    \"AdaBoost\": AdaBoostClassifier(random_state=42),\n",
        "    \"Gradient Boosting\": GradientBoostingClassifier(),\n",
        "    \"XGBoost\": xgb.XGBClassifier()\n",
        "}\n",
        "\n",
        "accuracies = {}\n",
        "for name, clf in classifiers.items():\n",
        "    clf.fit(X_train, y_train)\n",
        "    y_pred = clf.predict(X_test)\n",
        "    accuracies[name] = accuracy_score(y_test, y_pred)\n",
        "\n",
        "plt.figure(figsize=(10, 6))\n",
        "plt.bar(accuracies.keys(), accuracies.values(), color='skyblue')\n",
        "plt.xlabel('Classifier')\n",
        "plt.ylabel('Accuracy')\n",
        "plt.title('Accuracy Comparison of Different Classifiers')\n",
        "plt.xticks(rotation=45, ha='right')\n",
        "plt.ylim(0, 1)\n",
        "plt.tight_layout()\n",
        "plt.show()"
      ],
      "metadata": {
        "colab": {
          "base_uri": "https://localhost:8080/",
          "height": 739
        },
        "id": "IM7POUVBeDHs",
        "outputId": "5c412e0a-8e7e-4ebc-ad19-36129bf53bad"
      },
      "execution_count": 30,
      "outputs": [
        {
          "output_type": "stream",
          "name": "stderr",
          "text": [
            "/usr/local/lib/python3.10/dist-packages/sklearn/linear_model/_logistic.py:458: ConvergenceWarning: lbfgs failed to converge (status=1):\n",
            "STOP: TOTAL NO. of ITERATIONS REACHED LIMIT.\n",
            "\n",
            "Increase the number of iterations (max_iter) or scale the data as shown in:\n",
            "    https://scikit-learn.org/stable/modules/preprocessing.html\n",
            "Please also refer to the documentation for alternative solver options:\n",
            "    https://scikit-learn.org/stable/modules/linear_model.html#logistic-regression\n",
            "  n_iter_i = _check_optimize_result(\n"
          ]
        },
        {
          "output_type": "display_data",
          "data": {
            "text/plain": [
              "<Figure size 1000x600 with 1 Axes>"
            ],
            "image/png": "[encoded data removed]"
          },
          "metadata": {}
        }
      ]
    }
  ]
}